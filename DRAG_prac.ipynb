{
 "cells": [
  {
   "cell_type": "markdown",
   "id": "ba223f17-c186-4bfb-88fb-c16462525731",
   "metadata": {},
   "source": [
    "<h1 style = \"color:chocolate; margin-bottom: 20px\"> Implementing DRAG using QuTiP</h1>\n",
    "\n",
    "<a href = \"https://media.springernature.com/full/springer-static/image/art%3A10.1038%2Fs41534-020-00346-2/MediaObjects/41534_2020_346_Fig1_HTML.png?as=webp\">\n",
    "  <img src = \"https://media.springernature.com/full/springer-static/image/art%3A10.1038%2Fs41534-020-00346-2/MediaObjects/41534_2020_346_Fig1_HTML.png?as=webp\" style = \"; margin-top: 20px\" width = \"350\"/>\n",
    "</a>\n",
    "\n",
    "<text> This is a practice code to implement a DRAG signal using QuTiP. </text>"
   ]
  },
  {
   "cell_type": "code",
   "execution_count": null,
   "id": "105a6c28-47f4-455a-b332-25dbec6b6781",
   "metadata": {},
   "outputs": [],
   "source": [
    "pip install qutip"
   ]
  },
  {
   "cell_type": "code",
   "execution_count": 6,
   "id": "4bddae4b-0f79-43e5-a375-b1e229ca7099",
   "metadata": {},
   "outputs": [],
   "source": [
    "%matplotlib inline\n",
    "import numpy as p\n",
    "import matplotlib.pyplot as plt\n",
    "import qutip as qt \n",
    "from IPython.display import display, Markdown, Latex\n",
    "plt.rc('font', size = 16)\n"
   ]
  },
  {
   "cell_type": "code",
   "execution_count": null,
   "id": "3fe01991-84bf-4721-a663-ab6dc03a18a5",
   "metadata": {},
   "outputs": [],
   "source": [
    "# Parameters - for simpliticity  let's consider non-dissipative case; whence time evolution is unitary\n",
    "delta - 0.0 # Detuning of the drive\n",
    "alpha = -340.0  # Anharmonicity\n",
    "sigma = 0.01 # \n",
    "cutoff = 4.0 * sigma"
   ]
  }
 ],
 "metadata": {
  "kernelspec": {
   "display_name": "Python 3 (ipykernel)",
   "language": "python",
   "name": "python3"
  },
  "language_info": {
   "codemirror_mode": {
    "name": "ipython",
    "version": 3
   },
   "file_extension": ".py",
   "mimetype": "text/x-python",
   "name": "python",
   "nbconvert_exporter": "python",
   "pygments_lexer": "ipython3",
   "version": "3.12.7"
  }
 },
 "nbformat": 4,
 "nbformat_minor": 5
}
